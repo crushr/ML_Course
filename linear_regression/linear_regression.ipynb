{
 "cells": [
  {
   "cell_type": "markdown",
   "source": [
    "# 线性回归pytorch\n",
    "## 1)设计模型： Design model (input, output, forward pass with different layers)   \n",
    "## 2) 构建损失函数与优化器：Construct loss and optimizer\n",
    "## 3) 循环：Training loop\n",
    "## &emsp;&emsp;&emsp;&emsp;- Forward = compute prediction and loss\n",
    "## &emsp;&emsp;&emsp;&emsp;- Backward = compute gradients\n",
    "## &emsp;&emsp;&emsp;&emsp;- Update weights\n",
    "##  &emsp;&emsp;&emsp;&emsp;Test loop\n",
    "##  &emsp;&emsp;&emsp;&emsp;- Forward = compute prediction and loss"
   ],
   "metadata": {}
  },
  {
   "cell_type": "code",
   "execution_count": 28,
   "source": [
    "import torch\n",
    "import torch.nn as nn\n",
    "device = \"cuda\" if torch.cuda.is_available() else \"cpu\""
   ],
   "outputs": [],
   "metadata": {}
  },
  {
   "cell_type": "markdown",
   "source": [
    "## 构造训练和测试数据"
   ],
   "metadata": {}
  },
  {
   "cell_type": "code",
   "execution_count": 29,
   "source": [
    "X_train = torch.tensor([[1],[2],[3],[4]], dtype=torch.float32)  \n",
    "Y = torch.tensor([[2],[4],[6],[8]], dtype=torch.float32)\n",
    "X_test = torch.tensor([5], dtype=torch.float32)\n",
    "\n",
    "noise = np.random.randn(256) / 4\n",
    "\n",
    "X_train\n",
    "\n",
    "n_samples, n_features = X_train.shape"
   ],
   "outputs": [],
   "metadata": {}
  },
  {
   "cell_type": "markdown",
   "source": [
    "## 搭建模型 & 实例化"
   ],
   "metadata": {}
  },
  {
   "cell_type": "code",
   "execution_count": 30,
   "source": [
    "class LinearRegression(nn.Module):\n",
    "    def __init__(self, input_dim, output_dim):\n",
    "        super(LinearRegression, self).__init__()\n",
    "        self.linear = nn.Linear(input_dim, output_dim)\n",
    "    def forward(self, x):\n",
    "        return self.linear(x)\n",
    "\n",
    "model = LinearRegression(n_features, n_features).to(device)\n",
    "print(model)"
   ],
   "outputs": [
    {
     "output_type": "stream",
     "name": "stdout",
     "text": [
      "LinearRegression(\n",
      "  (linear): Linear(in_features=1, out_features=1, bias=True)\n",
      ")\n"
     ]
    }
   ],
   "metadata": {}
  },
  {
   "cell_type": "markdown",
   "source": [
    "## 优化"
   ],
   "metadata": {}
  },
  {
   "cell_type": "code",
   "execution_count": 31,
   "source": [
    "loss_fn = nn.MSELoss()\n",
    "optimizer = torch.optim.SGD(model.parameters(), lr=0.01)"
   ],
   "outputs": [],
   "metadata": {}
  },
  {
   "cell_type": "markdown",
   "source": [
    "## 训练"
   ],
   "metadata": {}
  },
  {
   "cell_type": "code",
   "execution_count": 32,
   "source": [
    "def train(X_train, Y, model, loss_fn, optimizer):\n",
    "    model.train()\n",
    "    n_iter = 200\n",
    "    for epoch in range(n_iter):\n",
    "        X_train, Y = X_train.to(device), Y.to(device)\n",
    "        pred = model(X_train)\n",
    "        loss = loss_fn(pred, Y)\n",
    "\n",
    "        optimizer.zero_grad()\n",
    "        loss.backward()\n",
    "        optimizer.step()\n",
    "        \n",
    "        if epoch % 10 == 0:\n",
    "            [w, b] = model.parameters()\n",
    "            print('epoch',epoch+1, 'loss=',loss.item())\n",
    "\n",
    "train(X_train, Y, model, loss_fn, optimizer)"
   ],
   "outputs": [
    {
     "output_type": "stream",
     "name": "stdout",
     "text": [
      "epoch 1 loss= 26.281768798828125\n",
      "epoch 11 loss= 0.8074555993080139\n",
      "epoch 21 loss= 0.14095398783683777\n",
      "epoch 31 loss= 0.11672164499759674\n",
      "epoch 41 loss= 0.10951313376426697\n",
      "epoch 51 loss= 0.10312822461128235\n",
      "epoch 61 loss= 0.09712530672550201\n",
      "epoch 71 loss= 0.0914720818400383\n",
      "epoch 81 loss= 0.0861479640007019\n",
      "epoch 91 loss= 0.08113371580839157\n",
      "epoch 101 loss= 0.07641132175922394\n",
      "epoch 111 loss= 0.07196377962827682\n",
      "epoch 121 loss= 0.06777507811784744\n",
      "epoch 131 loss= 0.06383026391267776\n",
      "epoch 141 loss= 0.06011499837040901\n",
      "epoch 151 loss= 0.05661600083112717\n",
      "epoch 161 loss= 0.05332063138484955\n",
      "epoch 171 loss= 0.050217077136039734\n",
      "epoch 181 loss= 0.04729422926902771\n",
      "epoch 191 loss= 0.04454141855239868\n"
     ]
    }
   ],
   "metadata": {}
  },
  {
   "cell_type": "markdown",
   "source": [
    "## 测试"
   ],
   "metadata": {}
  },
  {
   "cell_type": "code",
   "execution_count": 37,
   "source": [
    "def test(X_test, model):\n",
    "    model.eval()\n",
    "    print('pred_y:',model(X_test).item())\n",
    "test(X_test, model)"
   ],
   "outputs": [
    {
     "output_type": "stream",
     "name": "stdout",
     "text": [
      "pred_y: 9.64887523651123\n"
     ]
    }
   ],
   "metadata": {}
  },
  {
   "cell_type": "markdown",
   "source": [
    "## 绘图"
   ],
   "metadata": {}
  },
  {
   "cell_type": "code",
   "execution_count": 38,
   "source": [
    "import matplotlib.pyplot as plt\n",
    "import numpy as np\n",
    "\n",
    "x = X_train\n",
    "y = Y\n",
    "\n",
    "fig, ax = plt.subplots(figsize=(3,2), constrained_layout=True)\n",
    "ax.plot(x, y)\n",
    "ax.set_xlabel('t [s]')\n",
    "ax.set_ylabel('S [V]')\n",
    "ax.set_title('Sine wave')\n",
    "fig.set_facecolor('lightsteelblue')"
   ],
   "outputs": [
    {
     "output_type": "display_data",
     "data": {
      "image/png": "[encoded data removed]",
      "text/plain": [
       "<Figure size 216x144 with 1 Axes>"
      ]
     },
     "metadata": {}
    }
   ],
   "metadata": {}
  },
  {
   "cell_type": "code",
   "execution_count": null,
   "source": [],
   "outputs": [],
   "metadata": {}
  }
 ],
 "metadata": {
  "orig_nbformat": 4,
  "language_info": {
   "name": "python",
   "version": "3.8.11",
   "mimetype": "text/x-python",
   "codemirror_mode": {
    "name": "ipython",
    "version": 3
   },
   "pygments_lexer": "ipython3",
   "nbconvert_exporter": "python",
   "file_extension": ".py"
  },
  "kernelspec": {
   "name": "python3",
   "display_name": "Python 3.8.11 64-bit ('Py38': conda)"
  },
  "interpreter": {
   "hash": "62792cbd3b5bf2807c49140b9dd77f3574e6f3863eef786f6f586b1ba9747cfd"
  }
 },
 "nbformat": 4,
 "nbformat_minor": 2
}