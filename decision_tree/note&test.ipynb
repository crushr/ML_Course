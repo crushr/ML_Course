{
 "cells": [
  {
   "cell_type": "markdown",
   "source": [
    "## 信息增益\n",
    "\n",
    "决策树进行特征选择时，在划分数据集前后信息发生的变化称为信息增益，获得信息增益最高的特征就是最好的选择。  \n",
    "\n",
    "信息增益表示得知特征X的信息而使得类Y的信息不确定性减少的程度。  \n",
    "\n",
    "直观上，如果一个特征具有更好的分类能力，或者说，按照这一特征将训练数据集分割成子集，使得各个子集在当前条件下有最好的分类，那么就更应该选择这个特征。  \n",
    "\n",
    "度量方式：熵。熵定义为信息的期望值。熵越大，随机变量的不确定性就越大。  \n",
    "\n",
    "条件熵表示在已知某一随机变量的条件下另一随机变量的不确定性。  \n",
    "\n",
    "信息增益是相对于特征而言的。特征A对训练数据集D的信息增益定义为定义为集合D的经验熵与特征A给定条件下D的经验条件熵之差。  \n",
    "\n",
    "这个差值成为互信息，决策树学习中的信息增益等价于训练数据集中类与特征的互信息。  \n",
    "\n",
    "信息增益比：定义为其信息增益与训练数据集D的经验熵之比"
   ],
   "metadata": {}
  },
  {
   "cell_type": "markdown",
   "source": [
    "![](/Users/zhongshannan/Documents/ML\\&PR\\&DM/decision_tree/pic1.png)"
   ],
   "metadata": {}
  },
  {
   "cell_type": "markdown",
   "source": [
    "年龄：0代表青年，1代表中年，2代表老年；  \n",
    "有工作：0代表否，1代表是；  \n",
    "有自己的房子：0代表否，1代表是；  \n",
    "信贷情况：0代表一般，1代表好，2代表非常好；  \n",
    "类别(是否给贷款)：no代表否，yes代表是。  "
   ],
   "metadata": {}
  },
  {
   "cell_type": "code",
   "execution_count": 3,
   "source": [
    "def creatDataSet():\n",
    "    dataSet=[[0, 0, 0, 0, 'no'],\n",
    "            [0, 0, 0, 1, 'no'],\n",
    "            [0, 1, 0, 1, 'yes'],\n",
    "            [0, 1, 1, 0, 'yes'],\n",
    "            [0, 0, 0, 0, 'no'],\n",
    "            [1, 0, 0, 0, 'no'],\n",
    "            [1, 0, 0, 1, 'no'],\n",
    "            [1, 1, 1, 1, 'yes'],\n",
    "            [1, 0, 1, 2, 'yes'],\n",
    "            [1, 0, 1, 2, 'yes'],\n",
    "            [2, 0, 1, 2, 'yes'],\n",
    "            [2, 0, 1, 1, 'yes'],\n",
    "            [2, 1, 0, 1, 'yes'],\n",
    "            [2, 1, 0, 2, 'yes'],\n",
    "            [2, 0, 0, 0, 'no']]\n",
    "\n",
    "    features_name=['年龄','有工作','有自己的房子','信贷情况']\n",
    "    return dataSet,features_name\n",
    "\n",
    "def splitDataSet(dataSet, axis, value):\n",
    "    retDataSet = []\n",
    "    for featVec in dataSet:\n",
    "        if featVec[axis] == value:\n",
    "            featVec.remove(value)\n",
    "            retDataSet.append(featVec)\n",
    "    return retDataSet\n",
    "\n",
    "dataSet,features_name = creatDataSet()\n",
    "print(splitDataSet(dataSet, 0, 0))"
   ],
   "outputs": [
    {
     "output_type": "stream",
     "name": "stdout",
     "text": [
      "[[0, 0, 0, 'no'], [0, 0, 1, 'no'], [1, 0, 1, 'yes'], [1, 1, 0, 'yes'], [0, 0, 0, 'no']]\n"
     ]
    }
   ],
   "metadata": {}
  },
  {
   "cell_type": "code",
   "execution_count": 4,
   "source": [
    "def splitDataSet(dataSet, axis, value):\n",
    "    retDataSet = []\n",
    "    for featVec in dataSet:\n",
    "        if featVec[axis] == value:\n",
    "            reducedFeatVec = featVec[:axis]\n",
    "            reducedFeatVec.extend(featVec[axis+1:])\n",
    "            retDataSet.append(reducedFeatVec)\n",
    "    return retDataSet\n",
    "    \n",
    "dataSet,features_name = creatDataSet()\n",
    "print(splitDataSet(dataSet, 0, 0))"
   ],
   "outputs": [
    {
     "output_type": "stream",
     "name": "stdout",
     "text": [
      "[[0, 0, 0, 'no'], [0, 0, 1, 'no'], [1, 0, 1, 'yes'], [1, 1, 0, 'yes'], [0, 0, 0, 'no']]\n"
     ]
    }
   ],
   "metadata": {}
  },
  {
   "cell_type": "code",
   "execution_count": 10,
   "source": [
    "def creatDataSet():\n",
    "    dataSet=[[0, 0, 0, 0, 'no'],\n",
    "            [0, 0, 0, 1, 'no'],\n",
    "            [0, 1, 0, 1, 'yes'],\n",
    "            [0, 1, 1, 0, 'yes'],\n",
    "            [0, 0, 0, 0, 'no'],\n",
    "            [1, 0, 0, 0, 'no'],\n",
    "            [1, 0, 0, 1, 'no'],\n",
    "            [1, 1, 1, 1, 'yes'],\n",
    "            [1, 0, 1, 2, 'yes'],\n",
    "            [1, 0, 1, 2, 'yes'],\n",
    "            [2, 0, 1, 2, 'yes'],\n",
    "            [2, 0, 1, 1, 'yes'],\n",
    "            [2, 1, 0, 1, 'yes'],\n",
    "            [2, 1, 0, 2, 'yes'],\n",
    "            [2, 0, 0, 0, 'no']]\n",
    "\n",
    "    features_name=['年龄','有工作','有自己的房子','信贷情况']\n",
    "    return dataSet,features_name\n",
    "\n",
    "def splitDataSet1(dataSet, axis, value):\n",
    "    retDataSet = []\n",
    "    for featVec in dataSet:\n",
    "        if featVec[axis] == value:\n",
    "            featVec.pop(axis)\n",
    "            retDataSet.append(featVec)\n",
    "    return retDataSet\n",
    "\n",
    "def splitDataSet2(dataSet,axis,value):\n",
    "    retDataSet=[]\n",
    "    for featVec in dataSet:\n",
    "        if featVec[axis]==value:\n",
    "            reducedFeatVec=featVec[:axis]\n",
    "            reducedFeatVec.extend(featVec[axis+1:])\n",
    "            retDataSet.append(reducedFeatVec)\n",
    "    return retDataSet\n",
    "\n",
    "dataSet1,features_name = creatDataSet()\n",
    "dataSet2,features_name = creatDataSet()\n",
    "splitDataSet1(dataSet1,3,2) == splitDataSet2(dataSet2,3,2)"
   ],
   "outputs": [
    {
     "output_type": "execute_result",
     "data": {
      "text/plain": [
       "True"
      ]
     },
     "metadata": {},
     "execution_count": 10
    }
   ],
   "metadata": {}
  },
  {
   "cell_type": "code",
   "execution_count": 13,
   "source": [
    "list = [1]\n",
    "list.pop()"
   ],
   "outputs": [
    {
     "output_type": "execute_result",
     "data": {
      "text/plain": [
       "1"
      ]
     },
     "metadata": {},
     "execution_count": 13
    }
   ],
   "metadata": {}
  },
  {
   "cell_type": "code",
   "execution_count": null,
   "source": [],
   "outputs": [],
   "metadata": {}
  }
 ],
 "metadata": {
  "orig_nbformat": 4,
  "language_info": {
   "name": "python",
   "version": "3.8.11",
   "mimetype": "text/x-python",
   "codemirror_mode": {
    "name": "ipython",
    "version": 3
   },
   "pygments_lexer": "ipython3",
   "nbconvert_exporter": "python",
   "file_extension": ".py"
  },
  "kernelspec": {
   "name": "python3",
   "display_name": "Python 3.8.11 64-bit ('py38': conda)"
  },
  "interpreter": {
   "hash": "8d9acd1123aa4f7f9e113f5bc7510a452f5c24cf026775e448db0806dd810e6c"
  }
 },
 "nbformat": 4,
 "nbformat_minor": 2
}